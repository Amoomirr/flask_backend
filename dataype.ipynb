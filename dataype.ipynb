{
 "cells": [
  {
   "cell_type": "markdown",
   "metadata": {},
   "source": [
    "## List"
   ]
  },
  {
   "cell_type": "code",
   "execution_count": null,
   "metadata": {},
   "outputs": [],
   "source": [
    "X=['A','M','I','R']#For List we use Square brackets\n",
    "X[2]='O'\n",
    "X[3]='O'#Mutable i.e Changeable\n",
    "print(X)\n",
    "if \"M\" in X: #If Else Loop\n",
    "    print(\"M, is present\")\n",
    "else :\n",
    "    print(\"M, is absent\")\n",
    "X.append('Amoo')#adding data to list\n",
    "print(X)\n",
    "del X[4]#deletion of data from the list of index 4 i.e Amoo\n",
    "print(X)\n",
    "X.sort()\n",
    "print(X)\n",
    "\n",
    "X = 'AMIR'\n",
    "for i in X:\n",
    "    print(X)"
   ]
  },
  {
   "cell_type": "markdown",
   "metadata": {},
   "source": [
    "# TUPLE\n"
   ]
  },
  {
   "cell_type": "code",
   "execution_count": null,
   "metadata": {},
   "outputs": [],
   "source": [
    "X=(('A','M','I','R'))#For tuple we use parantheses\n",
    "Y=list(X)#For changing data in tuple will have to convert it to list\n",
    "Y[2]='O'#Changes\n",
    "Y[3]='O'#Changes\n",
    "X=tuple(Y) #We converted list back to tuple\n",
    "print(X)\n"
   ]
  },
  {
   "cell_type": "markdown",
   "metadata": {},
   "source": [
    "# SET"
   ]
  },
  {
   "cell_type": "code",
   "execution_count": null,
   "metadata": {},
   "outputs": [],
   "source": [
    "#A set is a collection which is unordered, unchangeable, and unindexed.\n",
    "X={\"A\",\"m\",\"i\",\"r\"}\n",
    "print(X)#it will print data iny any sequence as it does not have any index and it is unordered\n",
    "Y=list(X)\n",
    "Y[2]='O'\n",
    "X=set(Y)\n",
    "print(X)\n"
   ]
  },
  {
   "cell_type": "markdown",
   "metadata": {},
   "source": [
    "# Dictionary"
   ]
  },
  {
   "cell_type": "code",
   "execution_count": null,
   "metadata": {},
   "outputs": [],
   "source": [
    "#Dictionaries are used to store data values in key:value pairs, A dictionary is a collection which is ordered*, changeable and do not allow duplicates.\n",
    "\n",
    "X={\"brand\":\"Ford\", \"model\":\"mustang\",\"year\":\"1965\"}\n",
    "print(X)\n",
    "X={\"brand\":\"Ford\", \"model\":\"mustang\",\"year\":\"1965\",\"model\":\"mustang gt\"}#In output model will be overwridden by mustang gt as duplicates are not allowed\n",
    "print(X[\"model\"])\n",
    "X = {\n",
    "  \"brand\": \"Ford\",#str\n",
    "  \"electric\": False,#boolean\n",
    "  \"year\": 1964,#int\n",
    "  \"colors\": [\"red\", \"white\", \"blue\"]#list   \n",
    "}\n",
    "print(X)"
   ]
  }
 ],
 "metadata": {
  "kernelspec": {
   "display_name": "Python 3",
   "language": "python",
   "name": "python3"
  },
  "language_info": {
   "codemirror_mode": {
    "name": "ipython",
    "version": 3
   },
   "file_extension": ".py",
   "mimetype": "text/x-python",
   "name": "python",
   "nbconvert_exporter": "python",
   "pygments_lexer": "ipython3",
   "version": "3.10.10"
  }
 },
 "nbformat": 4,
 "nbformat_minor": 2
}
